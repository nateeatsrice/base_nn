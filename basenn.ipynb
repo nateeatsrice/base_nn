{
 "cells": [
  {
   "cell_type": "code",
   "execution_count": 1,
   "metadata": {},
   "outputs": [],
   "source": [
    "import numpy as np"
   ]
  },
  {
   "cell_type": "code",
   "execution_count": null,
   "metadata": {},
   "outputs": [],
   "source": [
    "#creating layer class\n",
    "\n",
    "class Layer(object):\n",
    "    def __init__(self) -> None:\n",
    "        self.input = None\n",
    "        self.output = None\n",
    "\n",
    "    def forward(self, input):\n",
    "        #TODO: return output\n",
    "        pass\n",
    "\n",
    "    def backward(self, output_gradient, learning_rate):\n",
    "        # TODO: backpropagation step used for updating parameters and returning the gradient of the loss function\n",
    "        pass\n",
    "\n",
    "\n",
    "#creating dense layer class\n",
    "    \n",
    "class Dense(Layer):\n",
    "    def __init__(self, input_size, output_size):\n",
    "        self.weights = np.random.randn(output_size, output_size)\n",
    "        self.bias = np.random.randn(output_size)\n",
    "\n",
    "    def forward(self, input):\n",
    "        self.input = input\n",
    "        return np.dot (self.weights, self.input)+ self.bias\n",
    "    \n",
    "    def backward(self, output_gradient, learning_rate):\n",
    "        weights_gradient = np.dot(output_gradient, self.input.T)\n",
    "        self.weights -= learning_rate * weights_gradient\n",
    "        self.bias -= learning_rate * output_gradient\n",
    "        return np.dot(self.weights.T, output_gradient )\n",
    "\n",
    "\n",
    "\n",
    "class Activation (Layer):\n",
    "    def __init__(self, activation, activation_prime):\n",
    "        self.activation = activation\n",
    "        self.activation_prime  = activation_prime\n",
    "\n",
    "    def forward(self, input):\n",
    "        self.input = input\n",
    "        return self.activation(self.input)\n",
    "    \n",
    "    def backward(self, output_gradient, learning_rate):\n",
    "        # multiply is a hadomar product which is element-wise multiplication with two vectors\n",
    "        return np.multiply(output_gradient, self.activation_prime(self.input))\n",
    "\n",
    "# activation used is a hyperbolic function\n",
    "\n",
    "class TanHyper(Activation):\n",
    "    def __init__(self):\n",
    "        tanh = lambda x: np.tanh(x)\n",
    "        tanh_prime = lambda x: 1- np.tanh(x)**2\n",
    "        super().__init__(tanh, tanh_prime)\n",
    "\n",
    "# loss function used is MSE \n",
    "        \n",
    "def mse(y_true,y_pred):\n",
    "    # power works like map function however second arguement exponent applied to vector\n",
    "    return np.mean(np.power(y_pred - y_true, 2))\n",
    "\n",
    "def mse_prime (y_true, y_pred):\n",
    "    return 2 * (y_pred - y_true)/ np.size(y_true)\n",
    "        \n",
    "\n"
   ]
  },
  {
   "cell_type": "code",
   "execution_count": 2,
   "metadata": {},
   "outputs": [
    {
     "name": "stdout",
     "output_type": "stream",
     "text": [
      "this is a string\n",
      "t h i s   i s   a   s t r i n g\n"
     ]
    }
   ],
   "source": [
    "# our data is an XOR mapping looking at exclusive or statment \n",
    "X = np.reshape([[0,0],[0,1],[1,0],[1,1]],(4,2,1))\n",
    "Y = np.reshape([0],[1],[1],[0],(4,1,1))\n",
    "\n",
    "print()"
   ]
  },
  {
   "cell_type": "code",
   "execution_count": 9,
   "metadata": {},
   "outputs": [
    {
     "name": "stdout",
     "output_type": "stream",
     "text": [
      "[[0 1]\n",
      " [2 3]\n",
      " [4 5]]\n"
     ]
    }
   ],
   "source": [
    "network = [\n",
    "    Dense(2,3)\n",
    "    TanHyper()\n",
    "    Dense(3,1)\n",
    "    TanHyper()    \n",
    "]"
   ]
  },
  {
   "cell_type": "code",
   "execution_count": null,
   "metadata": {},
   "outputs": [],
   "source": []
  }
 ],
 "metadata": {
  "kernelspec": {
   "display_name": "base",
   "language": "python",
   "name": "python3"
  },
  "language_info": {
   "codemirror_mode": {
    "name": "ipython",
    "version": 3
   },
   "file_extension": ".py",
   "mimetype": "text/x-python",
   "name": "python",
   "nbconvert_exporter": "python",
   "pygments_lexer": "ipython3",
   "version": "3.9.12"
  }
 },
 "nbformat": 4,
 "nbformat_minor": 2
}
