{
 "cells": [
  {
   "cell_type": "markdown",
   "metadata": {},
   "source": [
    "In this very simple example, we have a network with one input a hidden layer with 2 nodes and an output layer of 1 node. This is a regression problem where we are trying to predict the unknown function."
   ]
  },
  {
   "cell_type": "code",
   "execution_count": 1,
   "metadata": {},
   "outputs": [],
   "source": [
    "# Use torch to create tensors to store all of the numerical values, this includes the raw data\n",
    "import torch\n",
    "# Used to make the weight and bias tensors part of the neural network\n",
    "import torch.nn as nn \n",
    "# torch.nn.functional gives us the activation functions\n",
    "import torch.nn.functional as F \n",
    "# Stochastic gradient descent\n",
    "from torch.optim import SGD\n",
    "\n",
    "import numpy as np \n",
    "import pandas as pd \n",
    "import matplotlib as plt\n",
    "# sns stands for Samual Norman Seaborn a character in the drama \"The West Wing\"\n",
    "import seaborn as sns\n"
   ]
  },
  {
   "cell_type": "code",
   "execution_count": null,
   "metadata": {},
   "outputs": [],
   "source": [
    "# Creating a new nearal network class\n",
    "# nn.module is the basic object module parent class\n",
    "class BasicNN(nn.Module):\n",
    "    super().__init__() #inheriting the attribute of the parent class nn.Module \n",
    "    self.w00 = nn.Parameter(torch.tensor(1.7), requires_grad=False) # using nn.Parameter gives us the option to optimize it\n",
    "    self.b00 = nn.Parameter(torch.tensor(-0.85), requires_grad=False)\n",
    "    self.w01 = nn.Parameter(torch.tensor(-40.8), requires_grad=False)\n",
    "\n",
    "    self.w10 = nn.Parameter(torch.tensor(12.6), requires_grad=False) \n",
    "    self.b10 = nn.Parameter(torch.tensor(0.0), requires_grad=False)\n",
    "    self.w11 = nn.Parameter(torch.tensor(2.7), requires_grad=False)\n",
    "\n",
    "    self.final_bias = nn.Parameter(torch.tensor(-16.0), requires_grad=False)\n",
    "\n",
    "    def forward (self,input):#Create forward propagation function\n",
    "        input_to_relu_1 = input * self.w00 + self.b00\n",
    "        relu_1_output = F.relu(input_to_relu_1)\n",
    "        scaled_relu_1_output = relu_1_out * self.w01 \n",
    "\n",
    "        input_to_relu_2 = input * self.w10 + self.b10\n",
    "        relu_2_output = F.relu(input_to_relu_2)\n",
    "        scaled_relu_2_output = relu_2_out * self.w11 \n",
    "\n",
    "        input_to_final_relu = scaled_relu_1_output + scaled_relu_2_output + self.final_bias\n",
    "\n",
    "        output = F.relu(input_to_final_relu)\n",
    "\n",
    "        return(output)\n"
   ]
  },
  {
   "cell_type": "code",
   "execution_count": null,
   "metadata": {},
   "outputs": [],
   "source": [
    "input_doses = torch.linspace(start = 0)"
   ]
  }
 ],
 "metadata": {
  "kernelspec": {
   "display_name": "base",
   "language": "python",
   "name": "python3"
  },
  "language_info": {
   "codemirror_mode": {
    "name": "ipython",
    "version": 3
   },
   "file_extension": ".py",
   "mimetype": "text/x-python",
   "name": "python",
   "nbconvert_exporter": "python",
   "pygments_lexer": "ipython3",
   "version": "3.9.12"
  }
 },
 "nbformat": 4,
 "nbformat_minor": 2
}
