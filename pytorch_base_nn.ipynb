{
 "cells": [
  {
   "cell_type": "markdown",
   "metadata": {},
   "source": [
    "In this very simple example, we have a network with one input a hidden layer with 2 nodes and an output layer of 1 node. This is a regression problem where we are trying to predict the unknown function."
   ]
  },
  {
   "cell_type": "code",
   "execution_count": 1,
   "metadata": {},
   "outputs": [],
   "source": [
    "# Use torch to create tensors to store all of the numerical values, this includes the raw data\n",
    "import torch\n",
    "# Used to make the weight and bias tensors part of the neural network\n",
    "import torch.nn as nn \n",
    "# torch.nn.functional gives us the activation functions\n",
    "import torch.nn.functional as F \n",
    "# Stochastic gradient descent\n",
    "from torch.optim import SGD\n",
    "\n",
    "import numpy as np \n",
    "import pandas as pd \n",
    "import matplotlib as mpl\n",
    "import matplotlib.pyplot as plt\n",
    "# sns stands for Samual Norman Seaborn a character in the drama \"The West Wing\"\n",
    "import seaborn as sns"
   ]
  },
  {
   "cell_type": "code",
   "execution_count": 2,
   "metadata": {},
   "outputs": [],
   "source": [
    "# Creating a new nearal network class\n",
    "# nn.module is the basic object module parent class\n",
    "class BasicNN(nn.Module):\n",
    "    def __init__(self):\n",
    "        super().__init__() #inheriting the attribute of the parent class nn.Module \n",
    "        self.w00 = nn.Parameter(torch.tensor(1.7), requires_grad=False) # using nn.Parameter gives us the option to optimize it\n",
    "        self.b00 = nn.Parameter(torch.tensor(-0.85), requires_grad=False) # Manually inputing optimized values \n",
    "        self.w01 = nn.Parameter(torch.tensor(-40.8), requires_grad=False)\n",
    "\n",
    "        self.w10 = nn.Parameter(torch.tensor(12.6), requires_grad=False) \n",
    "        self.b10 = nn.Parameter(torch.tensor(0.0), requires_grad=False)\n",
    "        self.w11 = nn.Parameter(torch.tensor(2.7), requires_grad=False)\n",
    "\n",
    "        self.final_bias = nn.Parameter(torch.tensor(-16.0), requires_grad=False)# requires tells pytorch when to update parameter\n",
    "\n",
    "    def forward (self,input):#Create forward propagation function for one input 2 node hidden layer with 1 output\n",
    "        input_to_relu_1 = input * self.w00 + self.b00\n",
    "        relu_1_output = F.relu(input_to_relu_1)\n",
    "        scaled_relu_1_output = relu_1_output * self.w01 \n",
    "\n",
    "        input_to_relu_2 = input * self.w10 + self.b10\n",
    "        relu_2_output = F.relu(input_to_relu_2)\n",
    "        scaled_relu_2_output = relu_2_output * self.w11 \n",
    "\n",
    "        input_to_final_relu = scaled_relu_1_output + scaled_relu_2_output + self.final_bias\n",
    "\n",
    "        output = F.relu(input_to_final_relu)\n",
    "\n",
    "        return(output)"
   ]
  },
  {
   "cell_type": "code",
   "execution_count": 3,
   "metadata": {},
   "outputs": [
    {
     "name": "stdout",
     "output_type": "stream",
     "text": [
      "tensor([0.0000, 0.1000, 0.2000, 0.3000, 0.4000, 0.5000, 0.6000, 0.7000, 0.8000,\n",
      "        0.9000, 1.0000])\n"
     ]
    }
   ],
   "source": [
    "# Create a series of input doses from 0 to 1\n",
    "input_doses = torch.linspace(start = 0,end=1, steps=11)# Create tensor with 11 values from [0,1]\n",
    "\n",
    "print(input_doses)"
   ]
  },
  {
   "cell_type": "code",
   "execution_count": 4,
   "metadata": {},
   "outputs": [],
   "source": [
    "model = BasicNN()\n",
    "\n",
    "output_values = model(input_doses)"
   ]
  },
  {
   "cell_type": "code",
   "execution_count": 5,
   "metadata": {},
   "outputs": [
    {
     "data": {
      "text/plain": [
       "<AxesSubplot:>"
      ]
     },
     "execution_count": 5,
     "metadata": {},
     "output_type": "execute_result"
    },
    {
     "data": {
      "image/png": "[encoded data removed]",
      "text/plain": [
       "<Figure size 432x288 with 1 Axes>"
      ]
     },
     "metadata": {},
     "output_type": "display_data"
    }
   ],
   "source": [
    "sns.set(style=\"whitegrid\")\n",
    "\n",
    "sns.lineplot(x = input_doses, y = output_values, color = \"green\", linewidth = 2.5)"
   ]
  },
  {
   "cell_type": "code",
   "execution_count": 6,
   "metadata": {},
   "outputs": [],
   "source": [
    "class BasicNN_train(nn.Module):# cloned class used for training\n",
    "    def __init__(self):\n",
    "        super().__init__() #inheriting the attribute of the parent class nn.Module \n",
    "        self.w00 = nn.Parameter(torch.tensor(1.7), requires_grad=False) # using nn.Parameter gives us the option to optimize it\n",
    "        self.b00 = nn.Parameter(torch.tensor(-0.85), requires_grad=False) # Manually inputing optimized values \n",
    "        self.w01 = nn.Parameter(torch.tensor(-40.8), requires_grad=False)\n",
    "\n",
    "        self.w10 = nn.Parameter(torch.tensor(12.6), requires_grad=False) \n",
    "        self.b10 = nn.Parameter(torch.tensor(0.0), requires_grad=False)\n",
    "        self.w11 = nn.Parameter(torch.tensor(2.7), requires_grad=False)\n",
    "\n",
    "        self.final_bias = nn.Parameter(torch.tensor(0.0), requires_grad=True) # \"requires_grad = True\" is the statement used to tell pytorch to use gradient to optimize\n",
    "\n",
    "    def forward (self,input):#Create forward propagation function for one input 2 node hidden layer with 1 output\n",
    "        input_to_relu_1 = input * self.w00 + self.b00\n",
    "        relu_1_output = F.relu(input_to_relu_1)\n",
    "        scaled_relu_1_output = relu_1_output * self.w01 \n",
    "\n",
    "        input_to_relu_2 = input * self.w10 + self.b10\n",
    "        relu_2_output = F.relu(input_to_relu_2)\n",
    "        scaled_relu_2_output = relu_2_output * self.w11 \n",
    "\n",
    "        input_to_final_relu = scaled_relu_1_output + scaled_relu_2_output + self.final_bias\n",
    "\n",
    "        output = F.relu(input_to_final_relu)\n",
    "\n",
    "        return(output)"
   ]
  },
  {
   "cell_type": "code",
   "execution_count": 7,
   "metadata": {},
   "outputs": [],
   "source": [
    "model2 = BasicNN_train()\n",
    "\n",
    "output_values2 = model2(input_doses)# input is still input doses"
   ]
  },
  {
   "cell_type": "code",
   "execution_count": 8,
   "metadata": {},
   "outputs": [
    {
     "data": {
      "text/plain": [
       "Text(0.5, 0, 'Dose')"
      ]
     },
     "execution_count": 8,
     "metadata": {},
     "output_type": "execute_result"
    },
    {
     "data": {
      "image/png": "[encoded data removed]",
      "text/plain": [
       "<Figure size 432x288 with 1 Axes>"
      ]
     },
     "metadata": {},
     "output_type": "display_data"
    }
   ],
   "source": [
    "# still graphing with input doses, the .detach method is used to not use the gradient when graphing\n",
    "sns.lineplot(x = input_doses, y = output_values2.detach(), color = \"green\", linewidth = 2.5)\n",
    "plt.ylabel('Effectiveness')\n",
    "plt.xlabel('Dose')\n",
    "# because we have not given pytorch any observations to try and optimize towards the finl bias of 0 is used, thus we have a y axis of 17.5"
   ]
  },
  {
   "cell_type": "code",
   "execution_count": 9,
   "metadata": {},
   "outputs": [],
   "source": [
    "# since we were missing training data with observations let create some.\n",
    "# creating 2 tensors for x and y\n",
    "\n",
    "inputs = torch.tensor([0,0.5,1])\n",
    "labels = torch.tensor([0,1,0])\n",
    "\n"
   ]
  },
  {
   "cell_type": "code",
   "execution_count": 10,
   "metadata": {},
   "outputs": [
    {
     "name": "stdout",
     "output_type": "stream",
     "text": [
      "Final bias, before optimization: tensor(0.)\n",
      "\n",
      "Step: 0\n",
      "Final Bias: tensor(-3.2020)\n",
      "Step: 1\n",
      "Final Bias: tensor(-5.7636)\n",
      "Step: 2\n",
      "Final Bias: tensor(-7.8129)\n",
      "Step: 3\n",
      "Final Bias: tensor(-9.4523)\n",
      "Step: 4\n",
      "Final Bias: tensor(-10.7638)\n",
      "Step: 5\n",
      "Final Bias: tensor(-11.8131)\n",
      "Step: 6\n",
      "Final Bias: tensor(-12.6525)\n",
      "Step: 7\n",
      "Final Bias: tensor(-13.3240)\n",
      "Step: 8\n",
      "Final Bias: tensor(-13.8612)\n",
      "Step: 9\n",
      "Final Bias: tensor(-14.2909)\n",
      "Step: 10\n",
      "Final Bias: tensor(-14.6348)\n",
      "Step: 11\n",
      "Final Bias: tensor(-14.9098)\n",
      "Step: 12\n",
      "Final Bias: tensor(-15.1298)\n",
      "Step: 13\n",
      "Final Bias: tensor(-15.3059)\n",
      "Step: 14\n",
      "Final Bias: tensor(-15.4467)\n",
      "Step: 15\n",
      "Final Bias: tensor(-15.5594)\n",
      "Step: 16\n",
      "Final Bias: tensor(-15.6495)\n",
      "Step: 17\n",
      "Final Bias: tensor(-15.7216)\n",
      "Step: 18\n",
      "Final Bias: tensor(-15.7793)\n",
      "Step: 19\n",
      "Final Bias: tensor(-15.8254)\n",
      "Step: 20\n",
      "Final Bias: tensor(-15.8623)\n",
      "Step: 21\n",
      "Final Bias: tensor(-15.8919)\n",
      "Step: 22\n",
      "Final Bias: tensor(-15.9155)\n",
      "Step: 23\n",
      "Final Bias: tensor(-15.9344)\n",
      "Step: 24\n",
      "Final Bias: tensor(-15.9495)\n",
      "Step: 25\n",
      "Final Bias: tensor(-15.9616)\n",
      "Step: 26\n",
      "Final Bias: tensor(-15.9713)\n",
      "Step: 27\n",
      "Final Bias: tensor(-15.9790)\n",
      "Step: 28\n",
      "Final Bias: tensor(-15.9852)\n",
      "Step: 29\n",
      "Final Bias: tensor(-15.9902)\n",
      "Step: 30\n",
      "Final Bias: tensor(-15.9941)\n",
      "Step: 31\n",
      "Final Bias: tensor(-15.9973)\n",
      "Step: 32\n",
      "Final Bias: tensor(-15.9999)\n",
      "Step: 33\n",
      "Final Bias: tensor(-16.0019)\n",
      "Step: 34\n",
      "Final Bias: tensor(-16.0035)\n",
      "Step: 35\n",
      "Final Bias: tensor(-16.0048)\n",
      "Step: 36\n",
      "Final Bias: tensor(-16.0058)\n",
      "Step: 37\n",
      "Final Bias: tensor(-16.0067)\n",
      "Step: 38\n",
      "Final Bias: tensor(-16.0073)\n",
      "Number of steps: 39\n"
     ]
    }
   ],
   "source": [
    "# create an optimizer.\n",
    "optimizer = SGD(model2.parameters(), lr=0.1)\n",
    "\n",
    "# the str function takes the tensor value for final bais and makes it a string.\n",
    "print(\"Final bias, before optimization: \" + str(model2.final_bias.data) + \"\\n\") \n",
    "\n",
    "# training for loop \n",
    "for epoch in range(100):\n",
    "\n",
    "    total_loss = 0\n",
    "    \n",
    "    for iteration in range(len(inputs)):\n",
    "        input_i = inputs[iteration]\n",
    "        label_i = labels[iteration]\n",
    "\n",
    "        output_i = model2(input_i) \n",
    "\n",
    "        loss = (output_i - label_i)**2 # calculating SSE, in future i'll try MSELoss() or CrossEntropyLoss()\n",
    "\n",
    "        loss.backward() # Back Propagate\n",
    "\n",
    "        total_loss += float(loss) \n",
    "\n",
    "    if (total_loss < 0.00001):\n",
    "        print(f'Number of steps: {str(epoch)}')\n",
    "        break\n",
    "\n",
    "    optimizer.step()# else, take a small step towards a better value for final_bias\n",
    "    optimizer.zero_grad()# Zeros out derivatives that are being stored in model. this is important to do for each iteration\n",
    "\n",
    "    print(f'Step:{str(epoch)}\\nFinal Bias: {str(model2.final_bias.data)}')"
   ]
  }
 ],
 "metadata": {
  "kernelspec": {
   "display_name": "base",
   "language": "python",
   "name": "python3"
  },
  "language_info": {
   "codemirror_mode": {
    "name": "ipython",
    "version": 3
   },
   "file_extension": ".py",
   "mimetype": "text/x-python",
   "name": "python",
   "nbconvert_exporter": "python",
   "pygments_lexer": "ipython3",
   "version": "3.9.12"
  }
 },
 "nbformat": 4,
 "nbformat_minor": 2
}
